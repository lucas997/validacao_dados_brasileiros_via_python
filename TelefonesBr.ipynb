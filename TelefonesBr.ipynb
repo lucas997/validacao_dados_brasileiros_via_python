{
 "cells": [
  {
   "cell_type": "code",
   "execution_count": 47,
   "metadata": {},
   "outputs": [],
   "source": [
    "import re"
   ]
  },
  {
   "cell_type": "code",
   "execution_count": 48,
   "metadata": {},
   "outputs": [],
   "source": [
    "class TelefonesBr:\n",
    "    def __init__(self,telefone):\n",
    "        if self.valida_telefone(telefone):\n",
    "            self.numero = telefone\n",
    "        else:\n",
    "            raise ValueError(\"Número incorreto!\")\n",
    "            \n",
    "    def __str__(self):\n",
    "        return self.format_numero()\n",
    "    \n",
    "    def valida_telefone(self, telefone):\n",
    "        padrao = '([0-9]{2,3})?([0-9]{2})([0-9]{4,5})([0-9]{4})'\n",
    "        resposta = re.findall(padrao, telefone)\n",
    "        if resposta:\n",
    "            return True\n",
    "        else:\n",
    "            return False\n",
    "        \n",
    "    def format_numero(self):\n",
    "        padrao = '([0-9]{2,3})?([0-9]{2})([0-9]{4,5})([0-9]{4})'\n",
    "        resposta = re.search(padrao,self.numero)\n",
    "        numero_formatado = '+{}({}){}-{}'.format(\n",
    "            resposta.group(1),\n",
    "            resposta.group(2),\n",
    "            resposta.group(3),\n",
    "            resposta.group(4)\n",
    "        )\n",
    "        return (numero_formatado)"
   ]
  },
  {
   "cell_type": "code",
   "execution_count": 49,
   "metadata": {},
   "outputs": [],
   "source": [
    "telefone = '552126481234'"
   ]
  },
  {
   "cell_type": "code",
   "execution_count": 50,
   "metadata": {},
   "outputs": [],
   "source": [
    "telefone_objeto = TelefonesBr(telefone)\n",
    "#print(telefone_objeto)"
   ]
  },
  {
   "cell_type": "code",
   "execution_count": 51,
   "metadata": {},
   "outputs": [
    {
     "name": "stdout",
     "output_type": "stream",
     "text": [
      "+55(21)2648-1234\n"
     ]
    }
   ],
   "source": [
    "#print(telefone_objeto.format_numero())\n",
    "print(telefone_objeto)"
   ]
  }
 ],
 "metadata": {
  "kernelspec": {
   "display_name": "Python 3",
   "language": "python",
   "name": "python3"
  },
  "language_info": {
   "codemirror_mode": {
    "name": "ipython",
    "version": 3
   },
   "file_extension": ".py",
   "mimetype": "text/x-python",
   "name": "python",
   "nbconvert_exporter": "python",
   "pygments_lexer": "ipython3",
   "version": "3.10.9"
  },
  "orig_nbformat": 4,
  "vscode": {
   "interpreter": {
    "hash": "37083a178839ddb6837eca99e3841ef7be6dad5dc50c6d19829e2187d61ddd5d"
   }
  }
 },
 "nbformat": 4,
 "nbformat_minor": 2
}
