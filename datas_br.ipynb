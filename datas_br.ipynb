{
 "cells": [
  {
   "cell_type": "code",
   "execution_count": 41,
   "metadata": {},
   "outputs": [],
   "source": [
    "from datetime import datetime, timedelta"
   ]
  },
  {
   "cell_type": "code",
   "execution_count": 42,
   "metadata": {},
   "outputs": [],
   "source": [
    "class DatasBr:\n",
    "    def __init__(self):\n",
    "        self.momento_cadastro = datetime.today()\n",
    "        \n",
    "    def __str__(self):\n",
    "        return self.format_data()\n",
    "    \n",
    "        \n",
    "    # função para exibir o mês de cadastro do usuário\n",
    "    def mes_cadastro(self):\n",
    "        meses_do_ano = [\n",
    "            'Janeiro', 'Fevereiro', 'Março', 'Abril',\n",
    "            'Maio', 'Junho', 'Julho', 'Agosto',\n",
    "            'Setembro', 'Outubro', 'Novembro', 'Dezembro',\n",
    "        ]\n",
    "        mes_castro = self.momento_cadastro.month -1\n",
    "        return meses_do_ano[mes_castro]\n",
    "    \n",
    "    # função para exibir o dia da semana de cadastro do usuário \n",
    "    def dia_semana(self):\n",
    "        dia_semana_lista = [\n",
    "            'Segunda-feira', \n",
    "            'Terça-feira', \n",
    "            'Quarta-feira', \n",
    "            'Quinta-feira', \n",
    "            'Sexta-feira', \n",
    "            'Sábado', \n",
    "            'Domingo'\n",
    "        ]        \n",
    "        dia_semana = self.momento_cadastro.weekday()\n",
    "        return dia_semana_lista[dia_semana]\n",
    "\n",
    "    # criando máscara para formatação de datas\n",
    "    def format_data(self):\n",
    "        data_formatada = self.momento_cadastro.strftime('%d/%m/%Y %H:%M')\n",
    "        return data_formatada\n",
    "    \n",
    "    # função para exibir o tempo decorrido de cadastro dos usuários\n",
    "    def tempo_cadastro(self):\n",
    "        tempo_cadastro = (datetime.today() + timedelta(days=30)) - self.momento_cadastro\n",
    "        return tempo_cadastro\n",
    "    "
   ]
  },
  {
   "cell_type": "code",
   "execution_count": 43,
   "metadata": {},
   "outputs": [],
   "source": [
    "hoje = DatasBr()"
   ]
  },
  {
   "cell_type": "code",
   "execution_count": 44,
   "metadata": {},
   "outputs": [
    {
     "name": "stdout",
     "output_type": "stream",
     "text": [
      "30 days, 0:00:01.486749\n"
     ]
    }
   ],
   "source": [
    "print(hoje.tempo_cadastro())"
   ]
  }
 ],
 "metadata": {
  "kernelspec": {
   "display_name": "Python 3",
   "language": "python",
   "name": "python3"
  },
  "language_info": {
   "codemirror_mode": {
    "name": "ipython",
    "version": 3
   },
   "file_extension": ".py",
   "mimetype": "text/x-python",
   "name": "python",
   "nbconvert_exporter": "python",
   "pygments_lexer": "ipython3",
   "version": "3.10.9"
  },
  "orig_nbformat": 4,
  "vscode": {
   "interpreter": {
    "hash": "37083a178839ddb6837eca99e3841ef7be6dad5dc50c6d19829e2187d61ddd5d"
   }
  }
 },
 "nbformat": 4,
 "nbformat_minor": 2
}
