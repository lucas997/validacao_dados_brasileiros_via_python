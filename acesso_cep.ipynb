{
 "cells": [
  {
   "cell_type": "code",
   "execution_count": 72,
   "metadata": {},
   "outputs": [],
   "source": [
    "import requests"
   ]
  },
  {
   "cell_type": "code",
   "execution_count": 73,
   "metadata": {},
   "outputs": [],
   "source": [
    "class BuscaEndereco:\n",
    "    \n",
    "    def __init__(self, cep):\n",
    "        cep = str(cep)\n",
    "        if self.cep_e_valido(cep):\n",
    "            self.cep = cep\n",
    "        else:\n",
    "            raise ValueError('CEP inválido!!')\n",
    "    \n",
    "    def __str__(self):\n",
    "        return self.format_cep()\n",
    "    \n",
    "    def cep_e_valido(self, cep):\n",
    "        if len(cep) == 8:\n",
    "            return True\n",
    "        else:\n",
    "            return False\n",
    "        \n",
    "    def format_cep(self):\n",
    "        return '{}-{}'.format(self.cep[:5],self.cep[5:])\n",
    "    \n",
    "    # método que acessa a API passando o atributo que se encontra nela\n",
    "    def acessa_via_cep(self):\n",
    "        url = 'https://viacep.com.br/ws/{}/json/'.format(self.cep)\n",
    "        r = requests.get(url)\n",
    "        dados = r.json()\n",
    "        return (\n",
    "            dados['bairro'],\n",
    "            dados['localidade'],\n",
    "            dados['uf']\n",
    "        )\n",
    "    \n",
    "        "
   ]
  },
  {
   "cell_type": "code",
   "execution_count": 74,
   "metadata": {},
   "outputs": [],
   "source": [
    "cep = '01001000'"
   ]
  },
  {
   "cell_type": "code",
   "execution_count": 75,
   "metadata": {},
   "outputs": [],
   "source": [
    "objeto_cep = BuscaEndereco(cep)"
   ]
  },
  {
   "cell_type": "code",
   "execution_count": 76,
   "metadata": {},
   "outputs": [
    {
     "name": "stdout",
     "output_type": "stream",
     "text": [
      "Sé São Paulo SP\n"
     ]
    }
   ],
   "source": [
    "bairro, cidade, uf = objeto_cep.acessa_via_cep()\n",
    "print(bairro, cidade, uf)"
   ]
  }
 ],
 "metadata": {
  "kernelspec": {
   "display_name": "Python 3",
   "language": "python",
   "name": "python3"
  },
  "language_info": {
   "codemirror_mode": {
    "name": "ipython",
    "version": 3
   },
   "file_extension": ".py",
   "mimetype": "text/x-python",
   "name": "python",
   "nbconvert_exporter": "python",
   "pygments_lexer": "ipython3",
   "version": "3.10.9"
  },
  "orig_nbformat": 4
 },
 "nbformat": 4,
 "nbformat_minor": 2
}
