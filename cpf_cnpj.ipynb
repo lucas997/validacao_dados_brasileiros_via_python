{
 "cells": [
  {
   "cell_type": "code",
   "execution_count": null,
   "metadata": {},
   "outputs": [],
   "source": [
    "from validate_docbr import CPF,CNPJ"
   ]
  },
  {
   "cell_type": "code",
   "execution_count": null,
   "metadata": {},
   "outputs": [],
   "source": [
    "class Documento:\n",
    "    \n",
    "    @staticmethod\n",
    "    def cria_documento(documento):\n",
    "        if len(documento) == 11:\n",
    "            return DocCpf(documento)\n",
    "        elif len(documento) == 14:\n",
    "            return DocCnpj(documento)\n",
    "        else:\n",
    "            raise ValueError('Quantidade de dígitos esta incorreta')\n",
    "        \n",
    "class DocCpf():\n",
    "    def __init__(self, documento):\n",
    "        if self.valida(documento):\n",
    "            self.cpf = documento\n",
    "        else:\n",
    "            raise ValueError('Cpf inválido!')\n",
    "        \n",
    "    def __str__(self):\n",
    "        return self.format()\n",
    "    \n",
    "    def valida(self,documento):\n",
    "        validador = CPF()\n",
    "        return validador.validate(documento)\n",
    "            \n",
    "    def format(self):\n",
    "        mascara = CPF()\n",
    "        return mascara.mask(self.cpf)\n",
    "\n",
    "class DocCnpj():\n",
    "    def __init__(self, documento):\n",
    "        if self.valida(documento):\n",
    "            self.cnpj = documento\n",
    "        else:\n",
    "            raise ValueError('Cnpj inválido!!')\n",
    "\n",
    "    def __str__(self):\n",
    "        return self.format()\n",
    "    \n",
    "    def valida(self, documento):\n",
    "        mascara = CNPJ()\n",
    "        return mascara.validate(documento)\n",
    "    \n",
    "    def format(self):\n",
    "        mascara = CNPJ()\n",
    "        return mascara.mask(self.cnpj)\n",
    "\n",
    "\n",
    "            "
   ]
  },
  {
   "cell_type": "code",
   "execution_count": null,
   "metadata": {},
   "outputs": [],
   "source": [
    "# exemplo_cnpj = '17787358000109'\n"
   ]
  },
  {
   "cell_type": "code",
   "execution_count": null,
   "metadata": {},
   "outputs": [],
   "source": [
    "# documento = Documento.cria_documento(exemplo_cnpj)\n",
    "# print(documento)"
   ]
  },
  {
   "cell_type": "code",
   "execution_count": null,
   "metadata": {},
   "outputs": [],
   "source": [
    "exemplo_cpf1 = '67462546078'"
   ]
  },
  {
   "cell_type": "code",
   "execution_count": null,
   "metadata": {},
   "outputs": [],
   "source": [
    "documento = Documento.cria_documento(exemplo_cpf1)\n",
    "print(documento)"
   ]
  }
 ],
 "metadata": {
  "kernelspec": {
   "display_name": "Python 3",
   "language": "python",
   "name": "python3"
  },
  "language_info": {
   "codemirror_mode": {
    "name": "ipython",
    "version": 3
   },
   "file_extension": ".py",
   "mimetype": "text/x-python",
   "name": "python",
   "nbconvert_exporter": "python",
   "pygments_lexer": "ipython3",
   "version": "3.10.9"
  },
  "orig_nbformat": 4,
  "vscode": {
   "interpreter": {
    "hash": "37083a178839ddb6837eca99e3841ef7be6dad5dc50c6d19829e2187d61ddd5d"
   }
  }
 },
 "nbformat": 4,
 "nbformat_minor": 2
}
